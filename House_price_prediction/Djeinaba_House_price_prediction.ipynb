{
 "cells": [
  {
   "cell_type": "code",
   "execution_count": 1,
   "metadata": {},
   "outputs": [],
   "source": [
    "import pandas as pd\n",
    "import numpy as np\n",
    "import matplotlib.pyplot as plt\n",
    "from sklearn.linear_model import LogisticRegression\n",
    "from sklearn.ensemble import RandomForestClassifier\n",
    "import seaborn as sns\n",
    "%matplotlib inline"
   ]
  },
  {
   "cell_type": "markdown",
   "metadata": {},
   "source": [
    "#### Chargement des données "
   ]
  },
  {
   "cell_type": "code",
   "execution_count": 2,
   "metadata": {},
   "outputs": [],
   "source": [
    "data = pd.read_csv('kc_house_data.csv')"
   ]
  },
  {
   "cell_type": "code",
   "execution_count": 3,
   "metadata": {},
   "outputs": [
    {
     "data": {
      "text/plain": [
       "<bound method NDFrame.describe of                id             date     price  bedrooms  bathrooms  \\\n",
       "0      7129300520  20141013T000000  221900.0         3       1.00   \n",
       "1      6414100192  20141209T000000  538000.0         3       2.25   \n",
       "2      5631500400  20150225T000000  180000.0         2       1.00   \n",
       "3      2487200875  20141209T000000  604000.0         4       3.00   \n",
       "4      1954400510  20150218T000000  510000.0         3       2.00   \n",
       "...           ...              ...       ...       ...        ...   \n",
       "21608   263000018  20140521T000000  360000.0         3       2.50   \n",
       "21609  6600060120  20150223T000000  400000.0         4       2.50   \n",
       "21610  1523300141  20140623T000000  402101.0         2       0.75   \n",
       "21611   291310100  20150116T000000  400000.0         3       2.50   \n",
       "21612  1523300157  20141015T000000  325000.0         2       0.75   \n",
       "\n",
       "       sqft_living  sqft_lot  floors  waterfront  view  ...  grade  \\\n",
       "0             1180      5650     1.0           0     0  ...      7   \n",
       "1             2570      7242     2.0           0     0  ...      7   \n",
       "2              770     10000     1.0           0     0  ...      6   \n",
       "3             1960      5000     1.0           0     0  ...      7   \n",
       "4             1680      8080     1.0           0     0  ...      8   \n",
       "...            ...       ...     ...         ...   ...  ...    ...   \n",
       "21608         1530      1131     3.0           0     0  ...      8   \n",
       "21609         2310      5813     2.0           0     0  ...      8   \n",
       "21610         1020      1350     2.0           0     0  ...      7   \n",
       "21611         1600      2388     2.0           0     0  ...      8   \n",
       "21612         1020      1076     2.0           0     0  ...      7   \n",
       "\n",
       "       sqft_above  sqft_basement  yr_built  yr_renovated  zipcode      lat  \\\n",
       "0            1180              0      1955             0    98178  47.5112   \n",
       "1            2170            400      1951          1991    98125  47.7210   \n",
       "2             770              0      1933             0    98028  47.7379   \n",
       "3            1050            910      1965             0    98136  47.5208   \n",
       "4            1680              0      1987             0    98074  47.6168   \n",
       "...           ...            ...       ...           ...      ...      ...   \n",
       "21608        1530              0      2009             0    98103  47.6993   \n",
       "21609        2310              0      2014             0    98146  47.5107   \n",
       "21610        1020              0      2009             0    98144  47.5944   \n",
       "21611        1600              0      2004             0    98027  47.5345   \n",
       "21612        1020              0      2008             0    98144  47.5941   \n",
       "\n",
       "          long  sqft_living15  sqft_lot15  \n",
       "0     -122.257           1340        5650  \n",
       "1     -122.319           1690        7639  \n",
       "2     -122.233           2720        8062  \n",
       "3     -122.393           1360        5000  \n",
       "4     -122.045           1800        7503  \n",
       "...        ...            ...         ...  \n",
       "21608 -122.346           1530        1509  \n",
       "21609 -122.362           1830        7200  \n",
       "21610 -122.299           1020        2007  \n",
       "21611 -122.069           1410        1287  \n",
       "21612 -122.299           1020        1357  \n",
       "\n",
       "[21613 rows x 21 columns]>"
      ]
     },
     "execution_count": 3,
     "metadata": {},
     "output_type": "execute_result"
    }
   ],
   "source": [
    "data.describe"
   ]
  },
  {
   "cell_type": "markdown",
   "metadata": {},
   "source": [
    "Nous avons un dataset composé de 21613 lignes et 21 features "
   ]
  },
  {
   "cell_type": "code",
   "execution_count": 4,
   "metadata": {},
   "outputs": [
    {
     "data": {
      "text/html": [
       "<div>\n",
       "<style scoped>\n",
       "    .dataframe tbody tr th:only-of-type {\n",
       "        vertical-align: middle;\n",
       "    }\n",
       "\n",
       "    .dataframe tbody tr th {\n",
       "        vertical-align: top;\n",
       "    }\n",
       "\n",
       "    .dataframe thead th {\n",
       "        text-align: right;\n",
       "    }\n",
       "</style>\n",
       "<table border=\"1\" class=\"dataframe\">\n",
       "  <thead>\n",
       "    <tr style=\"text-align: right;\">\n",
       "      <th></th>\n",
       "      <th>id</th>\n",
       "      <th>date</th>\n",
       "      <th>price</th>\n",
       "      <th>bedrooms</th>\n",
       "      <th>bathrooms</th>\n",
       "      <th>sqft_living</th>\n",
       "      <th>sqft_lot</th>\n",
       "      <th>floors</th>\n",
       "      <th>waterfront</th>\n",
       "      <th>view</th>\n",
       "      <th>...</th>\n",
       "      <th>grade</th>\n",
       "      <th>sqft_above</th>\n",
       "      <th>sqft_basement</th>\n",
       "      <th>yr_built</th>\n",
       "      <th>yr_renovated</th>\n",
       "      <th>zipcode</th>\n",
       "      <th>lat</th>\n",
       "      <th>long</th>\n",
       "      <th>sqft_living15</th>\n",
       "      <th>sqft_lot15</th>\n",
       "    </tr>\n",
       "  </thead>\n",
       "  <tbody>\n",
       "    <tr>\n",
       "      <th>0</th>\n",
       "      <td>7129300520</td>\n",
       "      <td>20141013T000000</td>\n",
       "      <td>221900.0</td>\n",
       "      <td>3</td>\n",
       "      <td>1.00</td>\n",
       "      <td>1180</td>\n",
       "      <td>5650</td>\n",
       "      <td>1.0</td>\n",
       "      <td>0</td>\n",
       "      <td>0</td>\n",
       "      <td>...</td>\n",
       "      <td>7</td>\n",
       "      <td>1180</td>\n",
       "      <td>0</td>\n",
       "      <td>1955</td>\n",
       "      <td>0</td>\n",
       "      <td>98178</td>\n",
       "      <td>47.5112</td>\n",
       "      <td>-122.257</td>\n",
       "      <td>1340</td>\n",
       "      <td>5650</td>\n",
       "    </tr>\n",
       "    <tr>\n",
       "      <th>1</th>\n",
       "      <td>6414100192</td>\n",
       "      <td>20141209T000000</td>\n",
       "      <td>538000.0</td>\n",
       "      <td>3</td>\n",
       "      <td>2.25</td>\n",
       "      <td>2570</td>\n",
       "      <td>7242</td>\n",
       "      <td>2.0</td>\n",
       "      <td>0</td>\n",
       "      <td>0</td>\n",
       "      <td>...</td>\n",
       "      <td>7</td>\n",
       "      <td>2170</td>\n",
       "      <td>400</td>\n",
       "      <td>1951</td>\n",
       "      <td>1991</td>\n",
       "      <td>98125</td>\n",
       "      <td>47.7210</td>\n",
       "      <td>-122.319</td>\n",
       "      <td>1690</td>\n",
       "      <td>7639</td>\n",
       "    </tr>\n",
       "    <tr>\n",
       "      <th>2</th>\n",
       "      <td>5631500400</td>\n",
       "      <td>20150225T000000</td>\n",
       "      <td>180000.0</td>\n",
       "      <td>2</td>\n",
       "      <td>1.00</td>\n",
       "      <td>770</td>\n",
       "      <td>10000</td>\n",
       "      <td>1.0</td>\n",
       "      <td>0</td>\n",
       "      <td>0</td>\n",
       "      <td>...</td>\n",
       "      <td>6</td>\n",
       "      <td>770</td>\n",
       "      <td>0</td>\n",
       "      <td>1933</td>\n",
       "      <td>0</td>\n",
       "      <td>98028</td>\n",
       "      <td>47.7379</td>\n",
       "      <td>-122.233</td>\n",
       "      <td>2720</td>\n",
       "      <td>8062</td>\n",
       "    </tr>\n",
       "    <tr>\n",
       "      <th>3</th>\n",
       "      <td>2487200875</td>\n",
       "      <td>20141209T000000</td>\n",
       "      <td>604000.0</td>\n",
       "      <td>4</td>\n",
       "      <td>3.00</td>\n",
       "      <td>1960</td>\n",
       "      <td>5000</td>\n",
       "      <td>1.0</td>\n",
       "      <td>0</td>\n",
       "      <td>0</td>\n",
       "      <td>...</td>\n",
       "      <td>7</td>\n",
       "      <td>1050</td>\n",
       "      <td>910</td>\n",
       "      <td>1965</td>\n",
       "      <td>0</td>\n",
       "      <td>98136</td>\n",
       "      <td>47.5208</td>\n",
       "      <td>-122.393</td>\n",
       "      <td>1360</td>\n",
       "      <td>5000</td>\n",
       "    </tr>\n",
       "    <tr>\n",
       "      <th>4</th>\n",
       "      <td>1954400510</td>\n",
       "      <td>20150218T000000</td>\n",
       "      <td>510000.0</td>\n",
       "      <td>3</td>\n",
       "      <td>2.00</td>\n",
       "      <td>1680</td>\n",
       "      <td>8080</td>\n",
       "      <td>1.0</td>\n",
       "      <td>0</td>\n",
       "      <td>0</td>\n",
       "      <td>...</td>\n",
       "      <td>8</td>\n",
       "      <td>1680</td>\n",
       "      <td>0</td>\n",
       "      <td>1987</td>\n",
       "      <td>0</td>\n",
       "      <td>98074</td>\n",
       "      <td>47.6168</td>\n",
       "      <td>-122.045</td>\n",
       "      <td>1800</td>\n",
       "      <td>7503</td>\n",
       "    </tr>\n",
       "    <tr>\n",
       "      <th>5</th>\n",
       "      <td>7237550310</td>\n",
       "      <td>20140512T000000</td>\n",
       "      <td>1225000.0</td>\n",
       "      <td>4</td>\n",
       "      <td>4.50</td>\n",
       "      <td>5420</td>\n",
       "      <td>101930</td>\n",
       "      <td>1.0</td>\n",
       "      <td>0</td>\n",
       "      <td>0</td>\n",
       "      <td>...</td>\n",
       "      <td>11</td>\n",
       "      <td>3890</td>\n",
       "      <td>1530</td>\n",
       "      <td>2001</td>\n",
       "      <td>0</td>\n",
       "      <td>98053</td>\n",
       "      <td>47.6561</td>\n",
       "      <td>-122.005</td>\n",
       "      <td>4760</td>\n",
       "      <td>101930</td>\n",
       "    </tr>\n",
       "    <tr>\n",
       "      <th>6</th>\n",
       "      <td>1321400060</td>\n",
       "      <td>20140627T000000</td>\n",
       "      <td>257500.0</td>\n",
       "      <td>3</td>\n",
       "      <td>2.25</td>\n",
       "      <td>1715</td>\n",
       "      <td>6819</td>\n",
       "      <td>2.0</td>\n",
       "      <td>0</td>\n",
       "      <td>0</td>\n",
       "      <td>...</td>\n",
       "      <td>7</td>\n",
       "      <td>1715</td>\n",
       "      <td>0</td>\n",
       "      <td>1995</td>\n",
       "      <td>0</td>\n",
       "      <td>98003</td>\n",
       "      <td>47.3097</td>\n",
       "      <td>-122.327</td>\n",
       "      <td>2238</td>\n",
       "      <td>6819</td>\n",
       "    </tr>\n",
       "    <tr>\n",
       "      <th>7</th>\n",
       "      <td>2008000270</td>\n",
       "      <td>20150115T000000</td>\n",
       "      <td>291850.0</td>\n",
       "      <td>3</td>\n",
       "      <td>1.50</td>\n",
       "      <td>1060</td>\n",
       "      <td>9711</td>\n",
       "      <td>1.0</td>\n",
       "      <td>0</td>\n",
       "      <td>0</td>\n",
       "      <td>...</td>\n",
       "      <td>7</td>\n",
       "      <td>1060</td>\n",
       "      <td>0</td>\n",
       "      <td>1963</td>\n",
       "      <td>0</td>\n",
       "      <td>98198</td>\n",
       "      <td>47.4095</td>\n",
       "      <td>-122.315</td>\n",
       "      <td>1650</td>\n",
       "      <td>9711</td>\n",
       "    </tr>\n",
       "    <tr>\n",
       "      <th>8</th>\n",
       "      <td>2414600126</td>\n",
       "      <td>20150415T000000</td>\n",
       "      <td>229500.0</td>\n",
       "      <td>3</td>\n",
       "      <td>1.00</td>\n",
       "      <td>1780</td>\n",
       "      <td>7470</td>\n",
       "      <td>1.0</td>\n",
       "      <td>0</td>\n",
       "      <td>0</td>\n",
       "      <td>...</td>\n",
       "      <td>7</td>\n",
       "      <td>1050</td>\n",
       "      <td>730</td>\n",
       "      <td>1960</td>\n",
       "      <td>0</td>\n",
       "      <td>98146</td>\n",
       "      <td>47.5123</td>\n",
       "      <td>-122.337</td>\n",
       "      <td>1780</td>\n",
       "      <td>8113</td>\n",
       "    </tr>\n",
       "    <tr>\n",
       "      <th>9</th>\n",
       "      <td>3793500160</td>\n",
       "      <td>20150312T000000</td>\n",
       "      <td>323000.0</td>\n",
       "      <td>3</td>\n",
       "      <td>2.50</td>\n",
       "      <td>1890</td>\n",
       "      <td>6560</td>\n",
       "      <td>2.0</td>\n",
       "      <td>0</td>\n",
       "      <td>0</td>\n",
       "      <td>...</td>\n",
       "      <td>7</td>\n",
       "      <td>1890</td>\n",
       "      <td>0</td>\n",
       "      <td>2003</td>\n",
       "      <td>0</td>\n",
       "      <td>98038</td>\n",
       "      <td>47.3684</td>\n",
       "      <td>-122.031</td>\n",
       "      <td>2390</td>\n",
       "      <td>7570</td>\n",
       "    </tr>\n",
       "  </tbody>\n",
       "</table>\n",
       "<p>10 rows × 21 columns</p>\n",
       "</div>"
      ],
      "text/plain": [
       "           id             date      price  bedrooms  bathrooms  sqft_living  \\\n",
       "0  7129300520  20141013T000000   221900.0         3       1.00         1180   \n",
       "1  6414100192  20141209T000000   538000.0         3       2.25         2570   \n",
       "2  5631500400  20150225T000000   180000.0         2       1.00          770   \n",
       "3  2487200875  20141209T000000   604000.0         4       3.00         1960   \n",
       "4  1954400510  20150218T000000   510000.0         3       2.00         1680   \n",
       "5  7237550310  20140512T000000  1225000.0         4       4.50         5420   \n",
       "6  1321400060  20140627T000000   257500.0         3       2.25         1715   \n",
       "7  2008000270  20150115T000000   291850.0         3       1.50         1060   \n",
       "8  2414600126  20150415T000000   229500.0         3       1.00         1780   \n",
       "9  3793500160  20150312T000000   323000.0         3       2.50         1890   \n",
       "\n",
       "   sqft_lot  floors  waterfront  view  ...  grade  sqft_above  sqft_basement  \\\n",
       "0      5650     1.0           0     0  ...      7        1180              0   \n",
       "1      7242     2.0           0     0  ...      7        2170            400   \n",
       "2     10000     1.0           0     0  ...      6         770              0   \n",
       "3      5000     1.0           0     0  ...      7        1050            910   \n",
       "4      8080     1.0           0     0  ...      8        1680              0   \n",
       "5    101930     1.0           0     0  ...     11        3890           1530   \n",
       "6      6819     2.0           0     0  ...      7        1715              0   \n",
       "7      9711     1.0           0     0  ...      7        1060              0   \n",
       "8      7470     1.0           0     0  ...      7        1050            730   \n",
       "9      6560     2.0           0     0  ...      7        1890              0   \n",
       "\n",
       "   yr_built  yr_renovated  zipcode      lat     long  sqft_living15  \\\n",
       "0      1955             0    98178  47.5112 -122.257           1340   \n",
       "1      1951          1991    98125  47.7210 -122.319           1690   \n",
       "2      1933             0    98028  47.7379 -122.233           2720   \n",
       "3      1965             0    98136  47.5208 -122.393           1360   \n",
       "4      1987             0    98074  47.6168 -122.045           1800   \n",
       "5      2001             0    98053  47.6561 -122.005           4760   \n",
       "6      1995             0    98003  47.3097 -122.327           2238   \n",
       "7      1963             0    98198  47.4095 -122.315           1650   \n",
       "8      1960             0    98146  47.5123 -122.337           1780   \n",
       "9      2003             0    98038  47.3684 -122.031           2390   \n",
       "\n",
       "   sqft_lot15  \n",
       "0        5650  \n",
       "1        7639  \n",
       "2        8062  \n",
       "3        5000  \n",
       "4        7503  \n",
       "5      101930  \n",
       "6        6819  \n",
       "7        9711  \n",
       "8        8113  \n",
       "9        7570  \n",
       "\n",
       "[10 rows x 21 columns]"
      ]
     },
     "execution_count": 4,
     "metadata": {},
     "output_type": "execute_result"
    }
   ],
   "source": [
    "#un overview de nos données\n",
    "data.head(10)"
   ]
  },
  {
   "cell_type": "markdown",
   "metadata": {},
   "source": [
    "un overview des features nous permet des a present de voir les features qui n'ont pas d'importance dans l'analyse comme \"id\""
   ]
  },
  {
   "cell_type": "code",
   "execution_count": 5,
   "metadata": {},
   "outputs": [
    {
     "data": {
      "text/plain": [
       "(21613, 21)"
      ]
     },
     "execution_count": 5,
     "metadata": {},
     "output_type": "execute_result"
    }
   ],
   "source": [
    "data.shape"
   ]
  },
  {
   "cell_type": "code",
   "execution_count": 6,
   "metadata": {},
   "outputs": [
    {
     "data": {
      "text/plain": [
       "Index(['id', 'date', 'price', 'bedrooms', 'bathrooms', 'sqft_living',\n",
       "       'sqft_lot', 'floors', 'waterfront', 'view', 'condition', 'grade',\n",
       "       'sqft_above', 'sqft_basement', 'yr_built', 'yr_renovated', 'zipcode',\n",
       "       'lat', 'long', 'sqft_living15', 'sqft_lot15'],\n",
       "      dtype='object')"
      ]
     },
     "execution_count": 6,
     "metadata": {},
     "output_type": "execute_result"
    }
   ],
   "source": [
    "#Nos features\n",
    "data.columns"
   ]
  },
  {
   "cell_type": "code",
   "execution_count": 7,
   "metadata": {},
   "outputs": [
    {
     "name": "stdout",
     "output_type": "stream",
     "text": [
      "<class 'pandas.core.frame.DataFrame'>\n",
      "RangeIndex: 21613 entries, 0 to 21612\n",
      "Data columns (total 21 columns):\n",
      " #   Column         Non-Null Count  Dtype  \n",
      "---  ------         --------------  -----  \n",
      " 0   id             21613 non-null  int64  \n",
      " 1   date           21613 non-null  object \n",
      " 2   price          21613 non-null  float64\n",
      " 3   bedrooms       21613 non-null  int64  \n",
      " 4   bathrooms      21613 non-null  float64\n",
      " 5   sqft_living    21613 non-null  int64  \n",
      " 6   sqft_lot       21613 non-null  int64  \n",
      " 7   floors         21613 non-null  float64\n",
      " 8   waterfront     21613 non-null  int64  \n",
      " 9   view           21613 non-null  int64  \n",
      " 10  condition      21613 non-null  int64  \n",
      " 11  grade          21613 non-null  int64  \n",
      " 12  sqft_above     21613 non-null  int64  \n",
      " 13  sqft_basement  21613 non-null  int64  \n",
      " 14  yr_built       21613 non-null  int64  \n",
      " 15  yr_renovated   21613 non-null  int64  \n",
      " 16  zipcode        21613 non-null  int64  \n",
      " 17  lat            21613 non-null  float64\n",
      " 18  long           21613 non-null  float64\n",
      " 19  sqft_living15  21613 non-null  int64  \n",
      " 20  sqft_lot15     21613 non-null  int64  \n",
      "dtypes: float64(5), int64(15), object(1)\n",
      "memory usage: 3.5+ MB\n"
     ]
    }
   ],
   "source": [
    "#describtion des données afin de voir les variables avec des valeurs manquantes\n",
    "data.info()"
   ]
  },
  {
   "cell_type": "markdown",
   "metadata": {},
   "source": [
    "le dataset est composé de 21613 lignes , on constate donc qu'il ya pas de valeurs manquantes"
   ]
  },
  {
   "cell_type": "code",
   "execution_count": 8,
   "metadata": {},
   "outputs": [
    {
     "data": {
      "text/plain": [
       "price            1.000000\n",
       "sqft_living      0.702035\n",
       "grade            0.667434\n",
       "sqft_above       0.605567\n",
       "sqft_living15    0.585379\n",
       "bathrooms        0.525138\n",
       "view             0.397293\n",
       "sqft_basement    0.323816\n",
       "bedrooms         0.308350\n",
       "lat              0.307003\n",
       "waterfront       0.266369\n",
       "floors           0.256794\n",
       "yr_renovated     0.126434\n",
       "sqft_lot         0.089661\n",
       "sqft_lot15       0.082447\n",
       "yr_built         0.054012\n",
       "condition        0.036362\n",
       "long             0.021626\n",
       "id              -0.016762\n",
       "zipcode         -0.053203\n",
       "Name: price, dtype: float64"
      ]
     },
     "execution_count": 8,
     "metadata": {},
     "output_type": "execute_result"
    }
   ],
   "source": [
    "#On s’intéresse à la corrélation entre les variables numériques et le prix des maisons,\n",
    "data.corr().loc[:,\"price\"].sort_values(ascending=False)"
   ]
  },
  {
   "cell_type": "code",
   "execution_count": 9,
   "metadata": {},
   "outputs": [
    {
     "data": {
      "text/plain": [
       "<AxesSubplot:>"
      ]
     },
     "execution_count": 9,
     "metadata": {},
     "output_type": "execute_result"
    },
    {
     "data": {
      "image/png": "[encoded data removed]",
      "text/plain": [
       "<Figure size 1080x720 with 2 Axes>"
      ]
     },
     "metadata": {
      "needs_background": "light"
     },
     "output_type": "display_data"
    }
   ],
   "source": [
    "#Visualisation de la corrélation entre les variables et notre target price\n",
    "plt.figure(figsize=(15, 10))\n",
    "sns.heatmap(data.corr())"
   ]
  },
  {
   "cell_type": "markdown",
   "metadata": {},
   "source": [
    "Aprés analyse , on constate que les features telles que id , zipcode, long , condition  ont une corrélation trés faible avec la variable prix donc elles seront pas considéré dans le reste de l'analyse "
   ]
  },
  {
   "cell_type": "markdown",
   "metadata": {},
   "source": [
    "#### pré-traitements des données "
   ]
  },
  {
   "cell_type": "code",
   "execution_count": 10,
   "metadata": {},
   "outputs": [],
   "source": [
    "#Suppression des variables non pertinentes\n",
    "data = data.drop(['id','zipcode','long','condition', 'date'], axis=1)"
   ]
  },
  {
   "cell_type": "code",
   "execution_count": 11,
   "metadata": {},
   "outputs": [
    {
     "data": {
      "text/html": [
       "<div>\n",
       "<style scoped>\n",
       "    .dataframe tbody tr th:only-of-type {\n",
       "        vertical-align: middle;\n",
       "    }\n",
       "\n",
       "    .dataframe tbody tr th {\n",
       "        vertical-align: top;\n",
       "    }\n",
       "\n",
       "    .dataframe thead th {\n",
       "        text-align: right;\n",
       "    }\n",
       "</style>\n",
       "<table border=\"1\" class=\"dataframe\">\n",
       "  <thead>\n",
       "    <tr style=\"text-align: right;\">\n",
       "      <th></th>\n",
       "      <th>price</th>\n",
       "      <th>bedrooms</th>\n",
       "      <th>bathrooms</th>\n",
       "      <th>sqft_living</th>\n",
       "      <th>sqft_lot</th>\n",
       "      <th>floors</th>\n",
       "      <th>waterfront</th>\n",
       "      <th>view</th>\n",
       "      <th>grade</th>\n",
       "      <th>sqft_above</th>\n",
       "      <th>sqft_basement</th>\n",
       "      <th>yr_built</th>\n",
       "      <th>yr_renovated</th>\n",
       "      <th>lat</th>\n",
       "      <th>sqft_living15</th>\n",
       "      <th>sqft_lot15</th>\n",
       "    </tr>\n",
       "  </thead>\n",
       "  <tbody>\n",
       "    <tr>\n",
       "      <th>0</th>\n",
       "      <td>221900.0</td>\n",
       "      <td>3</td>\n",
       "      <td>1.00</td>\n",
       "      <td>1180</td>\n",
       "      <td>5650</td>\n",
       "      <td>1.0</td>\n",
       "      <td>0</td>\n",
       "      <td>0</td>\n",
       "      <td>7</td>\n",
       "      <td>1180</td>\n",
       "      <td>0</td>\n",
       "      <td>1955</td>\n",
       "      <td>0</td>\n",
       "      <td>47.5112</td>\n",
       "      <td>1340</td>\n",
       "      <td>5650</td>\n",
       "    </tr>\n",
       "    <tr>\n",
       "      <th>1</th>\n",
       "      <td>538000.0</td>\n",
       "      <td>3</td>\n",
       "      <td>2.25</td>\n",
       "      <td>2570</td>\n",
       "      <td>7242</td>\n",
       "      <td>2.0</td>\n",
       "      <td>0</td>\n",
       "      <td>0</td>\n",
       "      <td>7</td>\n",
       "      <td>2170</td>\n",
       "      <td>400</td>\n",
       "      <td>1951</td>\n",
       "      <td>1991</td>\n",
       "      <td>47.7210</td>\n",
       "      <td>1690</td>\n",
       "      <td>7639</td>\n",
       "    </tr>\n",
       "    <tr>\n",
       "      <th>2</th>\n",
       "      <td>180000.0</td>\n",
       "      <td>2</td>\n",
       "      <td>1.00</td>\n",
       "      <td>770</td>\n",
       "      <td>10000</td>\n",
       "      <td>1.0</td>\n",
       "      <td>0</td>\n",
       "      <td>0</td>\n",
       "      <td>6</td>\n",
       "      <td>770</td>\n",
       "      <td>0</td>\n",
       "      <td>1933</td>\n",
       "      <td>0</td>\n",
       "      <td>47.7379</td>\n",
       "      <td>2720</td>\n",
       "      <td>8062</td>\n",
       "    </tr>\n",
       "    <tr>\n",
       "      <th>3</th>\n",
       "      <td>604000.0</td>\n",
       "      <td>4</td>\n",
       "      <td>3.00</td>\n",
       "      <td>1960</td>\n",
       "      <td>5000</td>\n",
       "      <td>1.0</td>\n",
       "      <td>0</td>\n",
       "      <td>0</td>\n",
       "      <td>7</td>\n",
       "      <td>1050</td>\n",
       "      <td>910</td>\n",
       "      <td>1965</td>\n",
       "      <td>0</td>\n",
       "      <td>47.5208</td>\n",
       "      <td>1360</td>\n",
       "      <td>5000</td>\n",
       "    </tr>\n",
       "    <tr>\n",
       "      <th>4</th>\n",
       "      <td>510000.0</td>\n",
       "      <td>3</td>\n",
       "      <td>2.00</td>\n",
       "      <td>1680</td>\n",
       "      <td>8080</td>\n",
       "      <td>1.0</td>\n",
       "      <td>0</td>\n",
       "      <td>0</td>\n",
       "      <td>8</td>\n",
       "      <td>1680</td>\n",
       "      <td>0</td>\n",
       "      <td>1987</td>\n",
       "      <td>0</td>\n",
       "      <td>47.6168</td>\n",
       "      <td>1800</td>\n",
       "      <td>7503</td>\n",
       "    </tr>\n",
       "    <tr>\n",
       "      <th>5</th>\n",
       "      <td>1225000.0</td>\n",
       "      <td>4</td>\n",
       "      <td>4.50</td>\n",
       "      <td>5420</td>\n",
       "      <td>101930</td>\n",
       "      <td>1.0</td>\n",
       "      <td>0</td>\n",
       "      <td>0</td>\n",
       "      <td>11</td>\n",
       "      <td>3890</td>\n",
       "      <td>1530</td>\n",
       "      <td>2001</td>\n",
       "      <td>0</td>\n",
       "      <td>47.6561</td>\n",
       "      <td>4760</td>\n",
       "      <td>101930</td>\n",
       "    </tr>\n",
       "    <tr>\n",
       "      <th>6</th>\n",
       "      <td>257500.0</td>\n",
       "      <td>3</td>\n",
       "      <td>2.25</td>\n",
       "      <td>1715</td>\n",
       "      <td>6819</td>\n",
       "      <td>2.0</td>\n",
       "      <td>0</td>\n",
       "      <td>0</td>\n",
       "      <td>7</td>\n",
       "      <td>1715</td>\n",
       "      <td>0</td>\n",
       "      <td>1995</td>\n",
       "      <td>0</td>\n",
       "      <td>47.3097</td>\n",
       "      <td>2238</td>\n",
       "      <td>6819</td>\n",
       "    </tr>\n",
       "    <tr>\n",
       "      <th>7</th>\n",
       "      <td>291850.0</td>\n",
       "      <td>3</td>\n",
       "      <td>1.50</td>\n",
       "      <td>1060</td>\n",
       "      <td>9711</td>\n",
       "      <td>1.0</td>\n",
       "      <td>0</td>\n",
       "      <td>0</td>\n",
       "      <td>7</td>\n",
       "      <td>1060</td>\n",
       "      <td>0</td>\n",
       "      <td>1963</td>\n",
       "      <td>0</td>\n",
       "      <td>47.4095</td>\n",
       "      <td>1650</td>\n",
       "      <td>9711</td>\n",
       "    </tr>\n",
       "    <tr>\n",
       "      <th>8</th>\n",
       "      <td>229500.0</td>\n",
       "      <td>3</td>\n",
       "      <td>1.00</td>\n",
       "      <td>1780</td>\n",
       "      <td>7470</td>\n",
       "      <td>1.0</td>\n",
       "      <td>0</td>\n",
       "      <td>0</td>\n",
       "      <td>7</td>\n",
       "      <td>1050</td>\n",
       "      <td>730</td>\n",
       "      <td>1960</td>\n",
       "      <td>0</td>\n",
       "      <td>47.5123</td>\n",
       "      <td>1780</td>\n",
       "      <td>8113</td>\n",
       "    </tr>\n",
       "    <tr>\n",
       "      <th>9</th>\n",
       "      <td>323000.0</td>\n",
       "      <td>3</td>\n",
       "      <td>2.50</td>\n",
       "      <td>1890</td>\n",
       "      <td>6560</td>\n",
       "      <td>2.0</td>\n",
       "      <td>0</td>\n",
       "      <td>0</td>\n",
       "      <td>7</td>\n",
       "      <td>1890</td>\n",
       "      <td>0</td>\n",
       "      <td>2003</td>\n",
       "      <td>0</td>\n",
       "      <td>47.3684</td>\n",
       "      <td>2390</td>\n",
       "      <td>7570</td>\n",
       "    </tr>\n",
       "  </tbody>\n",
       "</table>\n",
       "</div>"
      ],
      "text/plain": [
       "       price  bedrooms  bathrooms  sqft_living  sqft_lot  floors  waterfront  \\\n",
       "0   221900.0         3       1.00         1180      5650     1.0           0   \n",
       "1   538000.0         3       2.25         2570      7242     2.0           0   \n",
       "2   180000.0         2       1.00          770     10000     1.0           0   \n",
       "3   604000.0         4       3.00         1960      5000     1.0           0   \n",
       "4   510000.0         3       2.00         1680      8080     1.0           0   \n",
       "5  1225000.0         4       4.50         5420    101930     1.0           0   \n",
       "6   257500.0         3       2.25         1715      6819     2.0           0   \n",
       "7   291850.0         3       1.50         1060      9711     1.0           0   \n",
       "8   229500.0         3       1.00         1780      7470     1.0           0   \n",
       "9   323000.0         3       2.50         1890      6560     2.0           0   \n",
       "\n",
       "   view  grade  sqft_above  sqft_basement  yr_built  yr_renovated      lat  \\\n",
       "0     0      7        1180              0      1955             0  47.5112   \n",
       "1     0      7        2170            400      1951          1991  47.7210   \n",
       "2     0      6         770              0      1933             0  47.7379   \n",
       "3     0      7        1050            910      1965             0  47.5208   \n",
       "4     0      8        1680              0      1987             0  47.6168   \n",
       "5     0     11        3890           1530      2001             0  47.6561   \n",
       "6     0      7        1715              0      1995             0  47.3097   \n",
       "7     0      7        1060              0      1963             0  47.4095   \n",
       "8     0      7        1050            730      1960             0  47.5123   \n",
       "9     0      7        1890              0      2003             0  47.3684   \n",
       "\n",
       "   sqft_living15  sqft_lot15  \n",
       "0           1340        5650  \n",
       "1           1690        7639  \n",
       "2           2720        8062  \n",
       "3           1360        5000  \n",
       "4           1800        7503  \n",
       "5           4760      101930  \n",
       "6           2238        6819  \n",
       "7           1650        9711  \n",
       "8           1780        8113  \n",
       "9           2390        7570  "
      ]
     },
     "execution_count": 11,
     "metadata": {},
     "output_type": "execute_result"
    }
   ],
   "source": [
    "data.head(10)"
   ]
  },
  {
   "cell_type": "code",
   "execution_count": 12,
   "metadata": {},
   "outputs": [
    {
     "data": {
      "text/plain": [
       "(21613, 16)"
      ]
     },
     "execution_count": 12,
     "metadata": {},
     "output_type": "execute_result"
    }
   ],
   "source": [
    "data.shape"
   ]
  },
  {
   "cell_type": "markdown",
   "metadata": {},
   "source": [
    "Notre dataset est maintenant composé de 16 features"
   ]
  },
  {
   "cell_type": "markdown",
   "metadata": {},
   "source": [
    "#### Sélection de nos jeu de données , entrainement et Test"
   ]
  },
  {
   "cell_type": "code",
   "execution_count": 13,
   "metadata": {},
   "outputs": [],
   "source": [
    "X = data.drop(['price'],axis=1)\n",
    "y = data['price']"
   ]
  },
  {
   "cell_type": "code",
   "execution_count": 14,
   "metadata": {},
   "outputs": [
    {
     "data": {
      "text/plain": [
       "<AxesSubplot:xlabel='price', ylabel='Count'>"
      ]
     },
     "execution_count": 14,
     "metadata": {},
     "output_type": "execute_result"
    },
    {
     "data": {
      "image/png": "[encoded data removed]",
      "text/plain": [
       "<Figure size 432x288 with 1 Axes>"
      ]
     },
     "metadata": {
      "needs_background": "light"
     },
     "output_type": "display_data"
    }
   ],
   "source": [
    "#la distribution des prix \n",
    "sns.histplot(data[\"price\"])"
   ]
  },
  {
   "cell_type": "code",
   "execution_count": 15,
   "metadata": {},
   "outputs": [
    {
     "data": {
      "text/plain": [
       "count    2.161300e+04\n",
       "mean     5.400881e+05\n",
       "std      3.671272e+05\n",
       "min      7.500000e+04\n",
       "25%      3.219500e+05\n",
       "50%      4.500000e+05\n",
       "75%      6.450000e+05\n",
       "max      7.700000e+06\n",
       "Name: price, dtype: float64"
      ]
     },
     "execution_count": 15,
     "metadata": {},
     "output_type": "execute_result"
    }
   ],
   "source": [
    "data.describe()[\"price\"]"
   ]
  },
  {
   "cell_type": "code",
   "execution_count": 16,
   "metadata": {},
   "outputs": [],
   "source": [
    "from sklearn.model_selection import train_test_split\n",
    "X_train, X_test, y_train, y_test = train_test_split(X, y, test_size=0.20)"
   ]
  },
  {
   "cell_type": "markdown",
   "metadata": {},
   "source": [
    "### Préprocessing "
   ]
  },
  {
   "cell_type": "markdown",
   "metadata": {},
   "source": [
    "###  Premier Modéle : Regression linéaire"
   ]
  },
  {
   "cell_type": "code",
   "execution_count": 17,
   "metadata": {},
   "outputs": [],
   "source": [
    "from sklearn.linear_model import LinearRegression"
   ]
  },
  {
   "cell_type": "code",
   "execution_count": 18,
   "metadata": {},
   "outputs": [],
   "source": [
    "lm = LinearRegression()"
   ]
  },
  {
   "cell_type": "code",
   "execution_count": 19,
   "metadata": {},
   "outputs": [
    {
     "data": {
      "text/plain": [
       "LinearRegression()"
      ]
     },
     "execution_count": 19,
     "metadata": {},
     "output_type": "execute_result"
    }
   ],
   "source": [
    "lm.fit(X_train, y_train)"
   ]
  },
  {
   "cell_type": "code",
   "execution_count": 20,
   "metadata": {},
   "outputs": [],
   "source": [
    "predictions_1 = lm.predict(X_test)"
   ]
  },
  {
   "cell_type": "code",
   "execution_count": 21,
   "metadata": {},
   "outputs": [
    {
     "data": {
      "text/plain": [
       "<matplotlib.collections.PathCollection at 0x7f7b3d60df40>"
      ]
     },
     "execution_count": 21,
     "metadata": {},
     "output_type": "execute_result"
    },
    {
     "data": {
      "image/png": "[encoded data removed]",
      "text/plain": [
       "<Figure size 432x288 with 1 Axes>"
      ]
     },
     "metadata": {
      "needs_background": "light"
     },
     "output_type": "display_data"
    }
   ],
   "source": [
    "plt.scatter(y_test,predictions_1)"
   ]
  },
  {
   "cell_type": "code",
   "execution_count": 22,
   "metadata": {},
   "outputs": [
    {
     "data": {
      "text/plain": [
       "<seaborn.axisgrid.FacetGrid at 0x7f7b4baa2790>"
      ]
     },
     "execution_count": 22,
     "metadata": {},
     "output_type": "execute_result"
    },
    {
     "data": {
      "image/png": "[encoded data removed]",
      "text/plain": [
       "<Figure size 360x360 with 1 Axes>"
      ]
     },
     "metadata": {
      "needs_background": "light"
     },
     "output_type": "display_data"
    }
   ],
   "source": [
    "sns.displot((y_test-predictions_1),bins=50)"
   ]
  },
  {
   "cell_type": "markdown",
   "metadata": {},
   "source": [
    "on a une distribution normale des prix des maisons predits"
   ]
  },
  {
   "cell_type": "code",
   "execution_count": 23,
   "metadata": {},
   "outputs": [
    {
     "name": "stdout",
     "output_type": "stream",
     "text": [
      "0.69\n"
     ]
    }
   ],
   "source": [
    "#l'accuracy \n",
    "score_test_1 = round(lm.score(X_test, y_test),2)\n",
    "print(score_test_1)"
   ]
  },
  {
   "cell_type": "markdown",
   "metadata": {},
   "source": [
    "### Deuxiéme modéle : Random Forest"
   ]
  },
  {
   "cell_type": "code",
   "execution_count": 24,
   "metadata": {},
   "outputs": [
    {
     "data": {
      "text/plain": [
       "RandomForestRegressor()"
      ]
     },
     "execution_count": 24,
     "metadata": {},
     "output_type": "execute_result"
    }
   ],
   "source": [
    "from sklearn.ensemble import RandomForestRegressor\n",
    "# Creation du modele\n",
    "rfr = RandomForestRegressor(n_estimators=100)\n",
    "# apprentissage\n",
    "rfr.fit(X_train, y_train)"
   ]
  },
  {
   "cell_type": "code",
   "execution_count": 25,
   "metadata": {},
   "outputs": [],
   "source": [
    "predictions_2 = rfr.predict(X_test)"
   ]
  },
  {
   "cell_type": "code",
   "execution_count": 26,
   "metadata": {},
   "outputs": [
    {
     "data": {
      "text/plain": [
       "<matplotlib.collections.PathCollection at 0x7f7b3d4d0ca0>"
      ]
     },
     "execution_count": 26,
     "metadata": {},
     "output_type": "execute_result"
    },
    {
     "data": {
      "image/png": "[encoded data removed]",
      "text/plain": [
       "<Figure size 432x288 with 1 Axes>"
      ]
     },
     "metadata": {
      "needs_background": "light"
     },
     "output_type": "display_data"
    }
   ],
   "source": [
    "plt.scatter(y_test,predictions_2)"
   ]
  },
  {
   "cell_type": "code",
   "execution_count": 27,
   "metadata": {},
   "outputs": [
    {
     "data": {
      "image/png": "[encoded data removed]",
      "text/plain": [
       "<Figure size 360x360 with 1 Axes>"
      ]
     },
     "metadata": {
      "needs_background": "light"
     },
     "output_type": "display_data"
    }
   ],
   "source": [
    "# la distribution des prix \n",
    "sns.displot((y_test-predictions_2),bins=50);"
   ]
  },
  {
   "cell_type": "code",
   "execution_count": 28,
   "metadata": {},
   "outputs": [
    {
     "name": "stdout",
     "output_type": "stream",
     "text": [
      "0.83\n"
     ]
    }
   ],
   "source": [
    "score_test_2= round(rfr.score(X_test, y_test),2)\n",
    "print(score_test_2)"
   ]
  },
  {
   "cell_type": "markdown",
   "metadata": {},
   "source": [
    "### Trosiéme modéle : l'arbre de décision"
   ]
  },
  {
   "cell_type": "code",
   "execution_count": 29,
   "metadata": {},
   "outputs": [],
   "source": [
    "from sklearn.tree import DecisionTreeRegressor\n",
    "#Création du modele avec une profondeur de 3\n",
    "model = DecisionTreeRegressor(max_depth=12 , random_state=33)"
   ]
  },
  {
   "cell_type": "code",
   "execution_count": 30,
   "metadata": {},
   "outputs": [
    {
     "data": {
      "text/plain": [
       "DecisionTreeRegressor(max_depth=12, random_state=33)"
      ]
     },
     "execution_count": 30,
     "metadata": {},
     "output_type": "execute_result"
    }
   ],
   "source": [
    "#entrainement du modéle\n",
    "model.fit(X_train, y_train)"
   ]
  },
  {
   "cell_type": "code",
   "execution_count": 31,
   "metadata": {},
   "outputs": [],
   "source": [
    "predictions_3 = model.predict(X_test)"
   ]
  },
  {
   "cell_type": "code",
   "execution_count": 32,
   "metadata": {},
   "outputs": [
    {
     "name": "stdout",
     "output_type": "stream",
     "text": [
      "the accuracy for the test data =  0.72\n"
     ]
    }
   ],
   "source": [
    "score_test_3 = round(model.score(X_test, y_test),2)\n",
    "\n",
    "print('the accuracy for the test data = ', score_test_3)\n"
   ]
  },
  {
   "cell_type": "markdown",
   "metadata": {},
   "source": [
    "### Quatriéme modèle : KNeighbors"
   ]
  },
  {
   "cell_type": "code",
   "execution_count": 33,
   "metadata": {},
   "outputs": [
    {
     "data": {
      "text/plain": [
       "KNeighborsRegressor(n_neighbors=7, weights='distance')"
      ]
     },
     "execution_count": 33,
     "metadata": {},
     "output_type": "execute_result"
    }
   ],
   "source": [
    "from sklearn.neighbors import KNeighborsRegressor\n",
    "model = KNeighborsRegressor(n_neighbors=7, weights= 'distance')\n",
    "model.fit(X_train,y_train)\n"
   ]
  },
  {
   "cell_type": "code",
   "execution_count": 34,
   "metadata": {},
   "outputs": [],
   "source": [
    "predictions_4= model.predict(X_test)"
   ]
  },
  {
   "cell_type": "code",
   "execution_count": 35,
   "metadata": {},
   "outputs": [
    {
     "name": "stdout",
     "output_type": "stream",
     "text": [
      "the accuracy for the test data =  0.52\n"
     ]
    }
   ],
   "source": [
    "score_test_4 = round(model.score(X_test, y_test),2)\n",
    "\n",
    "print('the accuracy for the test data = ', score_test_4)\n"
   ]
  },
  {
   "cell_type": "markdown",
   "metadata": {},
   "source": [
    "### Cinquiéme modéle : Gradient Boosting"
   ]
  },
  {
   "cell_type": "code",
   "execution_count": 36,
   "metadata": {},
   "outputs": [
    {
     "data": {
      "text/plain": [
       "GradientBoostingRegressor()"
      ]
     },
     "execution_count": 36,
     "metadata": {},
     "output_type": "execute_result"
    }
   ],
   "source": [
    "from sklearn.ensemble import GradientBoostingRegressor\n",
    "model = GradientBoostingRegressor()\n",
    "model.fit(X_train, y_train)"
   ]
  },
  {
   "cell_type": "code",
   "execution_count": 37,
   "metadata": {},
   "outputs": [],
   "source": [
    "prediction_5= model.predict(X_test)"
   ]
  },
  {
   "cell_type": "code",
   "execution_count": 38,
   "metadata": {},
   "outputs": [
    {
     "name": "stdout",
     "output_type": "stream",
     "text": [
      "the accuracy for the test data =  0.82\n"
     ]
    }
   ],
   "source": [
    "score_test_5 = round(model.score(X_test, y_test),2)\n",
    "\n",
    "print('the accuracy for the test data = ', score_test_5)\n"
   ]
  },
  {
   "cell_type": "markdown",
   "metadata": {},
   "source": [
    "### sixiéme modéle : Ridge"
   ]
  },
  {
   "cell_type": "code",
   "execution_count": 39,
   "metadata": {},
   "outputs": [
    {
     "data": {
      "text/plain": [
       "Ridge(alpha=1)"
      ]
     },
     "execution_count": 39,
     "metadata": {},
     "output_type": "execute_result"
    }
   ],
   "source": [
    "from sklearn.linear_model import Ridge\n",
    "model = Ridge(alpha=1)\n",
    "model.fit(X_train, y_train)"
   ]
  },
  {
   "cell_type": "code",
   "execution_count": 40,
   "metadata": {},
   "outputs": [],
   "source": [
    "prediction_6 = model.predict(X_test)"
   ]
  },
  {
   "cell_type": "code",
   "execution_count": 41,
   "metadata": {},
   "outputs": [
    {
     "name": "stdout",
     "output_type": "stream",
     "text": [
      "the accuracy for the test data =  0.69\n"
     ]
    }
   ],
   "source": [
    "score_test_6 = round(model.score(X_test, y_test),2)\n",
    "\n",
    "print('the accuracy for the test data = ', score_test_6)\n"
   ]
  },
  {
   "cell_type": "markdown",
   "metadata": {},
   "source": [
    "## 2. Visualisation des modéles avec leurs accuracy"
   ]
  },
  {
   "cell_type": "code",
   "execution_count": 42,
   "metadata": {},
   "outputs": [
    {
     "data": {
      "image/png": "[encoded data removed]",
      "text/plain": [
       "<Figure size 432x288 with 1 Axes>"
      ]
     },
     "metadata": {
      "needs_background": "light"
     },
     "output_type": "display_data"
    }
   ],
   "source": [
    "data = [score_test_1,score_test_2,score_test_3,score_test_4,score_test_5,score_test_6]\n",
    "fig = plt.figure()\n",
    "ax = fig.add_axes([0,0,1,1])\n",
    "ax.bar(\"Regression lineaire\", data[0], color = 'b', width = 0.25)\n",
    "ax.bar(\"Random Forest\", data[1], color = 'g', width = 0.25)\n",
    "ax.bar(\"desicion Tree\", data[2], color = 'm', width = 0.25)\n",
    "ax.bar(\"KNeighbors\", data[3], color = 'r', width = 0.25)\n",
    "ax.bar(\"Gradient Boosting\", data[4], color = 'c', width = 0.25)\n",
    "ax.bar(\"Ridge\", data[1], color = 'g', width = 0.25)\n",
    "for i, v in enumerate(data):\n",
    "    ax.text(i , v , str(v), color='black', fontweight='bold')\n"
   ]
  },
  {
   "cell_type": "markdown",
   "metadata": {},
   "source": [
    "aprés entrainement du modéle , on constate que le Random Forest offre le plus grand score, suivi du Gradient Boosting et de decision Tree qui ont des score proches de celui du Random Forest.\n"
   ]
  },
  {
   "cell_type": "markdown",
   "metadata": {},
   "source": [
    "## 3.Le Réseau de neuronnes"
   ]
  },
  {
   "cell_type": "code",
   "execution_count": 43,
   "metadata": {},
   "outputs": [
    {
     "name": "stderr",
     "output_type": "stream",
     "text": [
      "/home/djeinaba/anaconda3/lib/python3.8/site-packages/requests/__init__.py:89: RequestsDependencyWarning: urllib3 (1.26.7) or chardet (3.0.4) doesn't match a supported version!\n",
      "  warnings.warn(\"urllib3 ({}) or chardet ({}) doesn't match a supported \"\n"
     ]
    }
   ],
   "source": [
    "import tensorflow as tf\n",
    "from tensorflow.keras.layers import Input, Dense, Activation,Dropout\n",
    "from tensorflow.keras.models import Model"
   ]
  },
  {
   "cell_type": "code",
   "execution_count": 44,
   "metadata": {},
   "outputs": [],
   "source": [
    "from keras.losses import sparse_categorical_crossentropy\n",
    "input_layer = Input(shape=(X.shape[1],))\n",
    "dense_layer_1 = Dense(128, activation='relu')(input_layer)\n",
    "dense_layer_2 = Dense(64, activation='relu')(dense_layer_1)\n",
    "dense_layer_3 = Dense(32, activation='relu')(dense_layer_2)\n",
    "dense_layer_4 = Dense(16, activation='relu')(dense_layer_3)\n",
    "output = Dense(1)(dense_layer_4)\n",
    "\n",
    "model = Model(inputs=input_layer, outputs=output)\n",
    "model.compile(loss=\"mean_squared_error\" , optimizer=\"adam\", metrics=['mean_squared_error'])"
   ]
  },
  {
   "cell_type": "code",
   "execution_count": 45,
   "metadata": {},
   "outputs": [
    {
     "name": "stdout",
     "output_type": "stream",
     "text": [
      "Epoch 1/100\n",
      "6916/6916 [==============================] - 7s 948us/step - loss: 93120299008.0000 - mean_squared_error: 93120299008.0000 - val_loss: 79379070976.0000 - val_mean_squared_error: 79379070976.0000\n",
      "Epoch 2/100\n",
      "6916/6916 [==============================] - 7s 940us/step - loss: 66870923264.0000 - mean_squared_error: 66870923264.0000 - val_loss: 71392960512.0000 - val_mean_squared_error: 71392960512.0000\n",
      "Epoch 3/100\n",
      "6916/6916 [==============================] - 7s 957us/step - loss: 64577560576.0000 - mean_squared_error: 64577560576.0000 - val_loss: 80162848768.0000 - val_mean_squared_error: 80162848768.0000\n",
      "Epoch 4/100\n",
      "6916/6916 [==============================] - 7s 958us/step - loss: 62130597888.0000 - mean_squared_error: 62130597888.0000 - val_loss: 63762395136.0000 - val_mean_squared_error: 63762395136.0000\n",
      "Epoch 5/100\n",
      "6916/6916 [==============================] - 7s 1ms/step - loss: 58492784640.0000 - mean_squared_error: 58492784640.0000 - val_loss: 62857617408.0000 - val_mean_squared_error: 62857617408.0000\n",
      "Epoch 6/100\n",
      "6916/6916 [==============================] - 7s 948us/step - loss: 56814542848.0000 - mean_squared_error: 56814542848.0000 - val_loss: 62781509632.0000 - val_mean_squared_error: 62781509632.0000\n",
      "Epoch 7/100\n",
      "6916/6916 [==============================] - 7s 953us/step - loss: 56053579776.0000 - mean_squared_error: 56053579776.0000 - val_loss: 54389489664.0000 - val_mean_squared_error: 54389489664.0000\n",
      "Epoch 8/100\n",
      "6916/6916 [==============================] - 7s 960us/step - loss: 55364513792.0000 - mean_squared_error: 55364513792.0000 - val_loss: 53923127296.0000 - val_mean_squared_error: 53923127296.0000\n",
      "Epoch 9/100\n",
      "6916/6916 [==============================] - 7s 965us/step - loss: 54842318848.0000 - mean_squared_error: 54842318848.0000 - val_loss: 56769216512.0000 - val_mean_squared_error: 56769216512.0000\n",
      "Epoch 10/100\n",
      "6916/6916 [==============================] - 7s 956us/step - loss: 54474797056.0000 - mean_squared_error: 54474797056.0000 - val_loss: 59100033024.0000 - val_mean_squared_error: 59100033024.0000\n",
      "Epoch 11/100\n",
      "6916/6916 [==============================] - 7s 948us/step - loss: 53702639616.0000 - mean_squared_error: 53702639616.0000 - val_loss: 55132524544.0000 - val_mean_squared_error: 55132524544.0000\n",
      "Epoch 12/100\n",
      "6916/6916 [==============================] - 7s 971us/step - loss: 52591935488.0000 - mean_squared_error: 52591935488.0000 - val_loss: 50164637696.0000 - val_mean_squared_error: 50164637696.0000\n",
      "Epoch 13/100\n",
      "6916/6916 [==============================] - 7s 966us/step - loss: 52090212352.0000 - mean_squared_error: 52090212352.0000 - val_loss: 56881082368.0000 - val_mean_squared_error: 56881082368.0000\n",
      "Epoch 14/100\n",
      "6916/6916 [==============================] - 7s 956us/step - loss: 51790295040.0000 - mean_squared_error: 51790295040.0000 - val_loss: 52335259648.0000 - val_mean_squared_error: 52335259648.0000\n",
      "Epoch 15/100\n",
      "6916/6916 [==============================] - 7s 965us/step - loss: 50806964224.0000 - mean_squared_error: 50806964224.0000 - val_loss: 49116528640.0000 - val_mean_squared_error: 49116528640.0000\n",
      "Epoch 16/100\n",
      "6916/6916 [==============================] - 7s 981us/step - loss: 51562885120.0000 - mean_squared_error: 51562885120.0000 - val_loss: 48013942784.0000 - val_mean_squared_error: 48013942784.0000\n",
      "Epoch 17/100\n",
      "6916/6916 [==============================] - 7s 977us/step - loss: 50929975296.0000 - mean_squared_error: 50929975296.0000 - val_loss: 62017331200.0000 - val_mean_squared_error: 62017331200.0000\n",
      "Epoch 18/100\n",
      "6916/6916 [==============================] - 7s 975us/step - loss: 50634616832.0000 - mean_squared_error: 50634616832.0000 - val_loss: 50569572352.0000 - val_mean_squared_error: 50569572352.0000\n",
      "Epoch 19/100\n",
      "6916/6916 [==============================] - 7s 958us/step - loss: 49900142592.0000 - mean_squared_error: 49900142592.0000 - val_loss: 51840548864.0000 - val_mean_squared_error: 51840548864.0000\n",
      "Epoch 20/100\n",
      "6916/6916 [==============================] - 7s 953us/step - loss: 49914351616.0000 - mean_squared_error: 49914351616.0000 - val_loss: 51239993344.0000 - val_mean_squared_error: 51239993344.0000\n",
      "Epoch 21/100\n",
      "6916/6916 [==============================] - 7s 967us/step - loss: 49679708160.0000 - mean_squared_error: 49679708160.0000 - val_loss: 49110118400.0000 - val_mean_squared_error: 49110118400.0000\n",
      "Epoch 22/100\n",
      "6916/6916 [==============================] - 7s 980us/step - loss: 51202637824.0000 - mean_squared_error: 51202637824.0000 - val_loss: 46525251584.0000 - val_mean_squared_error: 46525251584.0000\n",
      "Epoch 23/100\n",
      "6916/6916 [==============================] - 7s 950us/step - loss: 50212777984.0000 - mean_squared_error: 50212777984.0000 - val_loss: 52116758528.0000 - val_mean_squared_error: 52116758528.0000\n",
      "Epoch 24/100\n",
      "6916/6916 [==============================] - 7s 971us/step - loss: 49410129920.0000 - mean_squared_error: 49410129920.0000 - val_loss: 50225803264.0000 - val_mean_squared_error: 50225803264.0000\n",
      "Epoch 25/100\n",
      "6916/6916 [==============================] - 7s 956us/step - loss: 49742872576.0000 - mean_squared_error: 49742872576.0000 - val_loss: 49270976512.0000 - val_mean_squared_error: 49270976512.0000\n",
      "Epoch 26/100\n",
      "6916/6916 [==============================] - 7s 949us/step - loss: 49247338496.0000 - mean_squared_error: 49247338496.0000 - val_loss: 49132732416.0000 - val_mean_squared_error: 49132732416.0000\n",
      "Epoch 27/100\n",
      "6916/6916 [==============================] - 7s 956us/step - loss: 48871460864.0000 - mean_squared_error: 48871460864.0000 - val_loss: 52813869056.0000 - val_mean_squared_error: 52813869056.0000\n",
      "Epoch 28/100\n",
      "6916/6916 [==============================] - 7s 992us/step - loss: 49691979776.0000 - mean_squared_error: 49691979776.0000 - val_loss: 50338779136.0000 - val_mean_squared_error: 50338779136.0000\n",
      "Epoch 29/100\n",
      "6916/6916 [==============================] - 7s 951us/step - loss: 49041670144.0000 - mean_squared_error: 49041670144.0000 - val_loss: 47554445312.0000 - val_mean_squared_error: 47554445312.0000\n",
      "Epoch 30/100\n",
      "6916/6916 [==============================] - 7s 963us/step - loss: 48545009664.0000 - mean_squared_error: 48545009664.0000 - val_loss: 56221425664.0000 - val_mean_squared_error: 56221425664.0000\n",
      "Epoch 31/100\n",
      "6916/6916 [==============================] - 7s 989us/step - loss: 48650371072.0000 - mean_squared_error: 48650371072.0000 - val_loss: 55688126464.0000 - val_mean_squared_error: 55688126464.0000\n",
      "Epoch 32/100\n",
      "6916/6916 [==============================] - 7s 983us/step - loss: 47960748032.0000 - mean_squared_error: 47960748032.0000 - val_loss: 49879318528.0000 - val_mean_squared_error: 49879318528.0000\n",
      "Epoch 33/100\n",
      "6916/6916 [==============================] - 7s 961us/step - loss: 48400109568.0000 - mean_squared_error: 48400109568.0000 - val_loss: 50693656576.0000 - val_mean_squared_error: 50693656576.0000\n",
      "Epoch 34/100\n",
      "6916/6916 [==============================] - 7s 964us/step - loss: 48267583488.0000 - mean_squared_error: 48267583488.0000 - val_loss: 47812820992.0000 - val_mean_squared_error: 47812820992.0000\n",
      "Epoch 35/100\n",
      "6916/6916 [==============================] - 7s 978us/step - loss: 48799510528.0000 - mean_squared_error: 48799510528.0000 - val_loss: 53281300480.0000 - val_mean_squared_error: 53281300480.0000\n",
      "Epoch 36/100\n",
      "6916/6916 [==============================] - 7s 974us/step - loss: 48657125376.0000 - mean_squared_error: 48657125376.0000 - val_loss: 51030061056.0000 - val_mean_squared_error: 51030061056.0000\n",
      "Epoch 37/100\n",
      "6916/6916 [==============================] - 7s 947us/step - loss: 48274993152.0000 - mean_squared_error: 48274993152.0000 - val_loss: 50593505280.0000 - val_mean_squared_error: 50593505280.0000\n",
      "Epoch 38/100\n",
      "6916/6916 [==============================] - 7s 945us/step - loss: 47778549760.0000 - mean_squared_error: 47778549760.0000 - val_loss: 46893842432.0000 - val_mean_squared_error: 46893842432.0000\n",
      "Epoch 39/100\n",
      "6916/6916 [==============================] - 7s 948us/step - loss: 47895142400.0000 - mean_squared_error: 47895142400.0000 - val_loss: 47737835520.0000 - val_mean_squared_error: 47737835520.0000\n",
      "Epoch 40/100\n",
      "6916/6916 [==============================] - 7s 950us/step - loss: 47303368704.0000 - mean_squared_error: 47303368704.0000 - val_loss: 46979895296.0000 - val_mean_squared_error: 46979895296.0000\n",
      "Epoch 41/100\n",
      "6916/6916 [==============================] - 6s 939us/step - loss: 47657603072.0000 - mean_squared_error: 47657603072.0000 - val_loss: 56320315392.0000 - val_mean_squared_error: 56320315392.0000\n",
      "Epoch 42/100\n",
      "6916/6916 [==============================] - 6s 935us/step - loss: 47604776960.0000 - mean_squared_error: 47604776960.0000 - val_loss: 64438976512.0000 - val_mean_squared_error: 64438976512.0000\n",
      "Epoch 43/100\n",
      "6916/6916 [==============================] - 6s 931us/step - loss: 47431892992.0000 - mean_squared_error: 47431892992.0000 - val_loss: 49096671232.0000 - val_mean_squared_error: 49096671232.0000\n",
      "Epoch 44/100\n",
      "6916/6916 [==============================] - 6s 921us/step - loss: 47051407360.0000 - mean_squared_error: 47051407360.0000 - val_loss: 49745645568.0000 - val_mean_squared_error: 49745645568.0000\n",
      "Epoch 45/100\n",
      "6916/6916 [==============================] - 7s 951us/step - loss: 47722536960.0000 - mean_squared_error: 47722536960.0000 - val_loss: 49931853824.0000 - val_mean_squared_error: 49931853824.0000\n",
      "Epoch 46/100\n",
      "6916/6916 [==============================] - 7s 944us/step - loss: 47293526016.0000 - mean_squared_error: 47293526016.0000 - val_loss: 48845049856.0000 - val_mean_squared_error: 48845049856.0000\n",
      "Epoch 47/100\n",
      "6916/6916 [==============================] - 6s 934us/step - loss: 46773534720.0000 - mean_squared_error: 46773534720.0000 - val_loss: 50836115456.0000 - val_mean_squared_error: 50836115456.0000\n",
      "Epoch 48/100\n",
      "6916/6916 [==============================] - 7s 940us/step - loss: 47581085696.0000 - mean_squared_error: 47581085696.0000 - val_loss: 47178821632.0000 - val_mean_squared_error: 47178821632.0000\n",
      "Epoch 49/100\n",
      "6916/6916 [==============================] - 6s 919us/step - loss: 47388774400.0000 - mean_squared_error: 47388774400.0000 - val_loss: 47312969728.0000 - val_mean_squared_error: 47312969728.0000\n",
      "Epoch 50/100\n",
      "6916/6916 [==============================] - 6s 937us/step - loss: 47371444224.0000 - mean_squared_error: 47371444224.0000 - val_loss: 47685730304.0000 - val_mean_squared_error: 47685730304.0000\n",
      "Epoch 51/100\n",
      "6916/6916 [==============================] - 7s 961us/step - loss: 47050973184.0000 - mean_squared_error: 47050973184.0000 - val_loss: 48575856640.0000 - val_mean_squared_error: 48575856640.0000\n",
      "Epoch 52/100\n",
      "6916/6916 [==============================] - 7s 958us/step - loss: 46492393472.0000 - mean_squared_error: 46492393472.0000 - val_loss: 53307052032.0000 - val_mean_squared_error: 53307052032.0000\n",
      "Epoch 53/100\n",
      "6916/6916 [==============================] - 7s 965us/step - loss: 46751449088.0000 - mean_squared_error: 46751449088.0000 - val_loss: 56323559424.0000 - val_mean_squared_error: 56323559424.0000\n",
      "Epoch 54/100\n",
      "6916/6916 [==============================] - 7s 966us/step - loss: 47078047744.0000 - mean_squared_error: 47078047744.0000 - val_loss: 48295993344.0000 - val_mean_squared_error: 48295993344.0000\n",
      "Epoch 55/100\n",
      "6916/6916 [==============================] - 7s 961us/step - loss: 46140874752.0000 - mean_squared_error: 46140874752.0000 - val_loss: 56406847488.0000 - val_mean_squared_error: 56406847488.0000\n",
      "Epoch 56/100\n",
      "6916/6916 [==============================] - 7s 954us/step - loss: 46349283328.0000 - mean_squared_error: 46349283328.0000 - val_loss: 52356820992.0000 - val_mean_squared_error: 52356820992.0000\n",
      "Epoch 57/100\n",
      "6916/6916 [==============================] - 7s 957us/step - loss: 46451666944.0000 - mean_squared_error: 46451666944.0000 - val_loss: 53264846848.0000 - val_mean_squared_error: 53264846848.0000\n",
      "Epoch 58/100\n",
      "6916/6916 [==============================] - 7s 954us/step - loss: 46628638720.0000 - mean_squared_error: 46628638720.0000 - val_loss: 54874857472.0000 - val_mean_squared_error: 54874857472.0000\n",
      "Epoch 59/100\n",
      "6916/6916 [==============================] - 7s 965us/step - loss: 46991904768.0000 - mean_squared_error: 46991904768.0000 - val_loss: 48774287360.0000 - val_mean_squared_error: 48774287360.0000\n",
      "Epoch 60/100\n",
      "6916/6916 [==============================] - 7s 966us/step - loss: 45658185728.0000 - mean_squared_error: 45658185728.0000 - val_loss: 49114255360.0000 - val_mean_squared_error: 49114255360.0000\n",
      "Epoch 61/100\n",
      "6916/6916 [==============================] - 7s 940us/step - loss: 46357942272.0000 - mean_squared_error: 46357942272.0000 - val_loss: 47367245824.0000 - val_mean_squared_error: 47367245824.0000\n",
      "Epoch 62/100\n",
      "6916/6916 [==============================] - 7s 960us/step - loss: 46298177536.0000 - mean_squared_error: 46298177536.0000 - val_loss: 45736759296.0000 - val_mean_squared_error: 45736759296.0000\n",
      "Epoch 63/100\n",
      "6916/6916 [==============================] - 7s 956us/step - loss: 45270298624.0000 - mean_squared_error: 45270298624.0000 - val_loss: 48923045888.0000 - val_mean_squared_error: 48923045888.0000\n",
      "Epoch 64/100\n",
      "6916/6916 [==============================] - 7s 954us/step - loss: 46423994368.0000 - mean_squared_error: 46423994368.0000 - val_loss: 55131639808.0000 - val_mean_squared_error: 55131639808.0000\n",
      "Epoch 65/100\n",
      "6916/6916 [==============================] - 7s 971us/step - loss: 46443565056.0000 - mean_squared_error: 46443565056.0000 - val_loss: 50302742528.0000 - val_mean_squared_error: 50302742528.0000\n",
      "Epoch 66/100\n",
      "6916/6916 [==============================] - 7s 943us/step - loss: 46122303488.0000 - mean_squared_error: 46122303488.0000 - val_loss: 47868796928.0000 - val_mean_squared_error: 47868796928.0000\n",
      "Epoch 67/100\n",
      "6916/6916 [==============================] - 7s 943us/step - loss: 45247967232.0000 - mean_squared_error: 45247967232.0000 - val_loss: 49250664448.0000 - val_mean_squared_error: 49250664448.0000\n",
      "Epoch 68/100\n",
      "6916/6916 [==============================] - 7s 975us/step - loss: 45171683328.0000 - mean_squared_error: 45171683328.0000 - val_loss: 49031573504.0000 - val_mean_squared_error: 49031573504.0000\n",
      "Epoch 69/100\n",
      "6916/6916 [==============================] - 7s 962us/step - loss: 45609193472.0000 - mean_squared_error: 45609193472.0000 - val_loss: 50734989312.0000 - val_mean_squared_error: 50734989312.0000\n",
      "Epoch 70/100\n",
      "6916/6916 [==============================] - 7s 961us/step - loss: 45776486400.0000 - mean_squared_error: 45776486400.0000 - val_loss: 47710830592.0000 - val_mean_squared_error: 47710830592.0000\n",
      "Epoch 71/100\n",
      "6916/6916 [==============================] - 7s 950us/step - loss: 46038106112.0000 - mean_squared_error: 46038106112.0000 - val_loss: 50190450688.0000 - val_mean_squared_error: 50190450688.0000\n",
      "Epoch 72/100\n",
      "6916/6916 [==============================] - 6s 936us/step - loss: 44786040832.0000 - mean_squared_error: 44786040832.0000 - val_loss: 47841095680.0000 - val_mean_squared_error: 47841095680.0000\n",
      "Epoch 73/100\n",
      "6916/6916 [==============================] - 7s 948us/step - loss: 46461313024.0000 - mean_squared_error: 46461313024.0000 - val_loss: 48500318208.0000 - val_mean_squared_error: 48500318208.0000\n",
      "Epoch 74/100\n",
      "6916/6916 [==============================] - 7s 940us/step - loss: 44989726720.0000 - mean_squared_error: 44989726720.0000 - val_loss: 49303695360.0000 - val_mean_squared_error: 49303695360.0000\n",
      "Epoch 75/100\n",
      "6916/6916 [==============================] - 7s 956us/step - loss: 45310779392.0000 - mean_squared_error: 45310779392.0000 - val_loss: 47653109760.0000 - val_mean_squared_error: 47653109760.0000\n",
      "Epoch 76/100\n",
      "6916/6916 [==============================] - 6s 924us/step - loss: 45638692864.0000 - mean_squared_error: 45638692864.0000 - val_loss: 53775613952.0000 - val_mean_squared_error: 53775613952.0000\n",
      "Epoch 77/100\n",
      "6916/6916 [==============================] - 7s 950us/step - loss: 45632741376.0000 - mean_squared_error: 45632741376.0000 - val_loss: 50955649024.0000 - val_mean_squared_error: 50955649024.0000\n",
      "Epoch 78/100\n",
      "6916/6916 [==============================] - 7s 953us/step - loss: 45453783040.0000 - mean_squared_error: 45453783040.0000 - val_loss: 49682182144.0000 - val_mean_squared_error: 49682182144.0000\n",
      "Epoch 79/100\n",
      "6916/6916 [==============================] - 7s 956us/step - loss: 45067018240.0000 - mean_squared_error: 45067018240.0000 - val_loss: 45563285504.0000 - val_mean_squared_error: 45563285504.0000\n",
      "Epoch 80/100\n",
      "6916/6916 [==============================] - 7s 962us/step - loss: 44926169088.0000 - mean_squared_error: 44926169088.0000 - val_loss: 47500537856.0000 - val_mean_squared_error: 47500537856.0000\n",
      "Epoch 81/100\n",
      "6916/6916 [==============================] - 7s 964us/step - loss: 44622655488.0000 - mean_squared_error: 44622655488.0000 - val_loss: 50713395200.0000 - val_mean_squared_error: 50713395200.0000\n",
      "Epoch 82/100\n",
      "6916/6916 [==============================] - 7s 968us/step - loss: 45140811776.0000 - mean_squared_error: 45140811776.0000 - val_loss: 49855909888.0000 - val_mean_squared_error: 49855909888.0000\n",
      "Epoch 83/100\n",
      "6916/6916 [==============================] - 7s 973us/step - loss: 44352827392.0000 - mean_squared_error: 44352827392.0000 - val_loss: 48109109248.0000 - val_mean_squared_error: 48109109248.0000\n",
      "Epoch 84/100\n",
      "6916/6916 [==============================] - 7s 961us/step - loss: 44223688704.0000 - mean_squared_error: 44223688704.0000 - val_loss: 47299080192.0000 - val_mean_squared_error: 47299080192.0000\n",
      "Epoch 85/100\n",
      "6916/6916 [==============================] - 7s 959us/step - loss: 44533690368.0000 - mean_squared_error: 44533690368.0000 - val_loss: 51962458112.0000 - val_mean_squared_error: 51962458112.0000\n",
      "Epoch 86/100\n",
      "6916/6916 [==============================] - 7s 967us/step - loss: 45130457088.0000 - mean_squared_error: 45130457088.0000 - val_loss: 46838235136.0000 - val_mean_squared_error: 46838235136.0000\n",
      "Epoch 87/100\n",
      "6916/6916 [==============================] - 7s 982us/step - loss: 44648792064.0000 - mean_squared_error: 44648792064.0000 - val_loss: 49154056192.0000 - val_mean_squared_error: 49154056192.0000\n",
      "Epoch 88/100\n",
      "6916/6916 [==============================] - 7s 954us/step - loss: 44734758912.0000 - mean_squared_error: 44734758912.0000 - val_loss: 50047967232.0000 - val_mean_squared_error: 50047967232.0000\n",
      "Epoch 89/100\n",
      "6916/6916 [==============================] - 7s 957us/step - loss: 44349423616.0000 - mean_squared_error: 44349423616.0000 - val_loss: 51315130368.0000 - val_mean_squared_error: 51315130368.0000\n",
      "Epoch 90/100\n",
      "6916/6916 [==============================] - 7s 971us/step - loss: 44610048000.0000 - mean_squared_error: 44610048000.0000 - val_loss: 50224771072.0000 - val_mean_squared_error: 50224771072.0000\n",
      "Epoch 91/100\n",
      "6916/6916 [==============================] - 7s 949us/step - loss: 43735396352.0000 - mean_squared_error: 43735396352.0000 - val_loss: 48965640192.0000 - val_mean_squared_error: 48965640192.0000\n",
      "Epoch 92/100\n",
      "6916/6916 [==============================] - 6s 926us/step - loss: 44578959360.0000 - mean_squared_error: 44578959360.0000 - val_loss: 45984477184.0000 - val_mean_squared_error: 45984477184.0000\n",
      "Epoch 93/100\n",
      "6916/6916 [==============================] - 6s 931us/step - loss: 44119711744.0000 - mean_squared_error: 44119711744.0000 - val_loss: 47403978752.0000 - val_mean_squared_error: 47403978752.0000\n",
      "Epoch 94/100\n",
      "6916/6916 [==============================] - 6s 931us/step - loss: 44214292480.0000 - mean_squared_error: 44214292480.0000 - val_loss: 55416434688.0000 - val_mean_squared_error: 55416434688.0000\n",
      "Epoch 95/100\n",
      "6916/6916 [==============================] - 6s 936us/step - loss: 44345184256.0000 - mean_squared_error: 44345184256.0000 - val_loss: 50160697344.0000 - val_mean_squared_error: 50160697344.0000\n",
      "Epoch 96/100\n",
      "6916/6916 [==============================] - 6s 933us/step - loss: 44545662976.0000 - mean_squared_error: 44545662976.0000 - val_loss: 49843167232.0000 - val_mean_squared_error: 49843167232.0000\n",
      "Epoch 97/100\n",
      "6916/6916 [==============================] - 7s 947us/step - loss: 43957260288.0000 - mean_squared_error: 43957260288.0000 - val_loss: 50328825856.0000 - val_mean_squared_error: 50328825856.0000\n",
      "Epoch 98/100\n",
      "6916/6916 [==============================] - 7s 952us/step - loss: 43950891008.0000 - mean_squared_error: 43950891008.0000 - val_loss: 51889860608.0000 - val_mean_squared_error: 51889860608.0000\n",
      "Epoch 99/100\n",
      "6916/6916 [==============================] - 7s 955us/step - loss: 43835166720.0000 - mean_squared_error: 43835166720.0000 - val_loss: 46633168896.0000 - val_mean_squared_error: 46633168896.0000\n",
      "Epoch 100/100\n",
      "6916/6916 [==============================] - 7s 957us/step - loss: 43822436352.0000 - mean_squared_error: 43822436352.0000 - val_loss: 47380041728.0000 - val_mean_squared_error: 47380041728.0000\n"
     ]
    }
   ],
   "source": [
    "history = model.fit(X_train, y_train, batch_size=2, epochs=100, verbose=1, validation_split=0.2)"
   ]
  },
  {
   "cell_type": "markdown",
   "metadata": {},
   "source": [
    "## 3. Comparaison entre les modéles de Machines learning et celui du Deep learning"
   ]
  },
  {
   "cell_type": "markdown",
   "metadata": {},
   "source": [
    "Étant donnée que parmis les modéles de Machine learning, le Random Forest est celui ayant donné le plus grand score, pour une comparaison optimale, nous allons comparer notre réseau de neurone avec le modéle de Random Forest dont le nombre d'arbre est de 100 (voire modéle 2 plus en haut ) en se basant sur la moyenne des moindre carrée (mean_squared_error ) car nous somme dans un modéle de régression lineaire"
   ]
  },
  {
   "cell_type": "markdown",
   "metadata": {},
   "source": [
    "#### Random Forest"
   ]
  },
  {
   "cell_type": "code",
   "execution_count": 49,
   "metadata": {},
   "outputs": [
    {
     "name": "stdout",
     "output_type": "stream",
     "text": [
      "MSE: 23058788598.902912\n",
      "MAE: 81408.65554138992\n"
     ]
    }
   ],
   "source": [
    "from sklearn import metrics\n",
    "print('MSE:', metrics.mean_squared_error(y_test, predictions_2))\n",
    "print('MAE:', metrics.mean_absolute_error(y_test, predictions_2))"
   ]
  },
  {
   "cell_type": "markdown",
   "metadata": {},
   "source": [
    "#### le Réseau de neurones"
   ]
  },
  {
   "cell_type": "code",
   "execution_count": 50,
   "metadata": {},
   "outputs": [
    {
     "name": "stdout",
     "output_type": "stream",
     "text": [
      "MAE: 147124.02687659033\n",
      "MSE: 53356204754.44805\n"
     ]
    }
   ],
   "source": [
    "pred = model.predict(X_test)\n",
    "print('MAE:', metrics.mean_absolute_error(y_test, pred))\n",
    "print('MSE:', metrics.mean_squared_error(y_test, pred))"
   ]
  },
  {
   "cell_type": "markdown",
   "metadata": {},
   "source": [
    "le meilleure modéle est celui qui présente un MSE le plus petit, aprés entrainement des deux modéle , on constate que celui du Random Forest à un MSE de 81408 et celui du réseau de neurones 53356204754.\n",
    "Donc le random Forest est mieux adapté à cette analyse\n",
    "\n"
   ]
  },
  {
   "cell_type": "code",
   "execution_count": null,
   "metadata": {},
   "outputs": [],
   "source": []
  }
 ],
 "metadata": {
  "kernelspec": {
   "display_name": "Python 3 (ipykernel)",
   "language": "python",
   "name": "python3"
  },
  "language_info": {
   "codemirror_mode": {
    "name": "ipython",
    "version": 3
   },
   "file_extension": ".py",
   "mimetype": "text/x-python",
   "name": "python",
   "nbconvert_exporter": "python",
   "pygments_lexer": "ipython3",
   "version": "3.10.12"
  }
 },
 "nbformat": 4,
 "nbformat_minor": 4
}
